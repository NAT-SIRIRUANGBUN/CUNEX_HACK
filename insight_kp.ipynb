{
 "cells": [
  {
   "cell_type": "code",
   "execution_count": 1,
   "metadata": {},
   "outputs": [],
   "source": [
    "import pandas as pd\n",
    "\n",
    "# อ่านไฟล์ CSV\n",
    "df = pd.read_csv('/Users/suphakorninsee/Desktop/CEDT/Hackathon/CU-Nex/CUNEX_HACK/research_data.csv')\n"
   ]
  },
  {
   "cell_type": "code",
   "execution_count": 2,
   "metadata": {},
   "outputs": [
    {
     "data": {
      "text/plain": [
       "Faculty                     Clothing_Buy_Rate             \n",
       "คณะครุศาสตร์                1-3 ชิ้น                          18\n",
       "                            ไม่ได้ซื้อ                         5\n",
       "                            4-6 ชิ้น                           4\n",
       "                            4-6 ชิ้น, มากกว่า 10 ชิ้น          1\n",
       "คณะจิตวิทยา                 1-3 ชิ้น                           1\n",
       "คณะนิติศาสตร์               4-6 ชิ้น                           1\n",
       "                            ไม่ได้ซื้อ                         1\n",
       "คณะนิเทศศาสตร์              1-3 ชิ้น                           1\n",
       "                            ไม่ได้ซื้อ                         1\n",
       "คณะพยาบาลศาสตร์             มากกว่า 10 ชิ้น                    1\n",
       "คณะพาณิชยศาสตร์และการบัญชี  1-3 ชิ้น                           4\n",
       "                            1-3 ชิ้น, 4-6 ชิ้น                 1\n",
       "                            4-6 ชิ้น                           1\n",
       "                            มากกว่า 10 ชิ้น                    1\n",
       "คณะรัฐศาสตร์                1-3 ชิ้น                           4\n",
       "                            4-6 ชิ้น                           1\n",
       "                            ไม่ได้ซื้อ                         1\n",
       "คณะวิทยาศาสตร์              1-3 ชิ้น                           5\n",
       "                            ไม่ได้ซื้อ                         2\n",
       "                            4-6 ชิ้น                           1\n",
       "                            7-9 ชิ้น                           1\n",
       "คณะวิทยาศาสตร์การกีฬา       ไม่ได้ซื้อ                         1\n",
       "คณะวิศวกรรมศาสตร์           1-3 ชิ้น                           9\n",
       "                            ไม่ได้ซื้อ                         4\n",
       "                            4-6 ชิ้น                           2\n",
       "                            ไม่ได้ซื้อ, 1-3 ชิ้น, 4-6 ชิ้น     1\n",
       "คณะศิลปกรรมศาสตร์           1-3 ชิ้น                           2\n",
       "คณะสถาปัตยกรรมศาสตร์        1-3 ชิ้น                           3\n",
       "คณะสหเวชศาสตร์              1-3 ชิ้น                           2\n",
       "คณะสัตวแพทยศาสตร์           1-3 ชิ้น                           3\n",
       "                            4-6 ชิ้น                           2\n",
       "                            ไม่ได้ซื้อ                         1\n",
       "คณะอักษรศาสตร์              1-3 ชิ้น                           6\n",
       "                            ไม่ได้ซื้อ                         3\n",
       "คณะเศรษฐศาสตร์              1-3 ชิ้น                           3\n",
       "คณะแพทยศาสตร์               4-6 ชิ้น                           1\n",
       "บุคคลากรภายในมหาวิทยาลัย    1-3 ชิ้น                           1\n",
       "Name: count, dtype: int64"
      ]
     },
     "execution_count": 2,
     "metadata": {},
     "output_type": "execute_result"
    }
   ],
   "source": [
    "#ความสัมพันธ์ระหว่างคณะและอัตราการซื้อเสื้อผ้า\n",
    "faculty_purchase = df.groupby('Faculty')['Clothing_Buy_Rate'].value_counts()\n",
    "faculty_purchase"
   ]
  },
  {
   "cell_type": "code",
   "execution_count": 3,
   "metadata": {},
   "outputs": [
    {
     "data": {
      "text/plain": [
       "Online_Shopping_Rate  Clothing_Buy_Rate             \n",
       "ซื้อบ้างแต่ไม่บ่อย    1-3 ชิ้น                          29\n",
       "                      ไม่ได้ซื้อ                         9\n",
       "                      4-6 ชิ้น                           4\n",
       "                      1-3 ชิ้น, 4-6 ชิ้น                 1\n",
       "                      ไม่ได้ซื้อ, 1-3 ชิ้น, 4-6 ชิ้น     1\n",
       "เป็นประจำ             1-3 ชิ้น                          18\n",
       "                      4-6 ชิ้น                           9\n",
       "                      ไม่ได้ซื้อ                         3\n",
       "                      มากกว่า 10 ชิ้น                    2\n",
       "                      4-6 ชิ้น, มากกว่า 10 ชิ้น          1\n",
       "                      7-9 ชิ้น                           1\n",
       "ไม่ค่อยซื้อ           1-3 ชิ้น                          14\n",
       "                      ไม่ได้ซื้อ                         3\n",
       "ไม่ซื้อเลย            ไม่ได้ซื้อ                         4\n",
       "                      1-3 ชิ้น                           1\n",
       "Name: count, dtype: int64"
      ]
     },
     "execution_count": 3,
     "metadata": {},
     "output_type": "execute_result"
    }
   ],
   "source": [
    "#ความสัมพันธ์ระหว่างการซื้อของออนไลน์และอัตราการซื้อเสื้อผ้า\n",
    "online_purchase = df.groupby('Online_Shopping_Rate')['Clothing_Buy_Rate'].value_counts()\n",
    "online_purchase"
   ]
  },
  {
   "cell_type": "code",
   "execution_count": 4,
   "metadata": {},
   "outputs": [
    {
     "data": {
      "text/plain": [
       "Same_Cloth_Freq                         Clothing_Buy_Rate             \n",
       "1-3 ครั้ง                               1-3 ชิ้น                           4\n",
       "                                        มากกว่า 10 ชิ้น                    1\n",
       "                                        ไม่ได้ซื้อ                         1\n",
       "1-3 ครั้ง, 4-6 ครั้ง                    4-6 ชิ้น, มากกว่า 10 ชิ้น          1\n",
       "1-3 ครั้ง, 4-6 ครั้ง, มากกว่า 10 ครั้ง  ไม่ได้ซื้อ, 1-3 ชิ้น, 4-6 ชิ้น     1\n",
       "4-6 ครั้ง                               1-3 ชิ้น                           3\n",
       "                                        4-6 ชิ้น                           1\n",
       "4-6 ครั้ง, 7-9 ครั้ง, มากกว่า 10 ครั้ง  1-3 ชิ้น                           1\n",
       "4-6 ครั้ง, มากกว่า 10 ครั้ง             มากกว่า 10 ชิ้น                    1\n",
       "7-9 ครั้ง                               4-6 ชิ้น                           3\n",
       "                                        ไม่ได้ซื้อ                         3\n",
       "                                        1-3 ชิ้น                           2\n",
       "มากกว่า 10 ครั้ง                        1-3 ชิ้น                          49\n",
       "                                        ไม่ได้ซื้อ                        15\n",
       "                                        4-6 ชิ้น                           9\n",
       "                                        1-3 ชิ้น, 4-6 ชิ้น                 1\n",
       "                                        7-9 ชิ้น                           1\n",
       "ไม่ใส่ซ้ำ                               1-3 ชิ้น                           2\n",
       "ไม่ใส่ซ้ำ, 1-3 ครั้ง                    1-3 ชิ้น                           1\n",
       "Name: count, dtype: int64"
      ]
     },
     "execution_count": 4,
     "metadata": {},
     "output_type": "execute_result"
    }
   ],
   "source": [
    "#ความสัมพันธ์ระหว่างความถี่ในการใส่เสื้อผ้าและอัตราการซื้อเสื้อผ้า\n",
    "wear_freq_purchase = df.groupby('Same_Cloth_Freq')['Clothing_Buy_Rate'].value_counts()\n",
    "wear_freq_purchase"
   ]
  },
  {
   "cell_type": "code",
   "execution_count": 5,
   "metadata": {},
   "outputs": [
    {
     "data": {
      "text/plain": [
       "Second_Hand_Market_Interest  Clothing_Buy_Rate             \n",
       "ชอบบบบบบ                     1-3 ชิ้น                          45\n",
       "                             ไม่ได้ซื้อ                         8\n",
       "                             4-6 ชิ้น                           7\n",
       "                             มากกว่า 10 ชิ้น                    2\n",
       "                             1-3 ชิ้น, 4-6 ชิ้น                 1\n",
       "                             7-9 ชิ้น                           1\n",
       "ชอบบบบบบ, เฉยๆ               ไม่ได้ซื้อ, 1-3 ชิ้น, 4-6 ชิ้น     1\n",
       "เฉยๆ                         1-3 ชิ้น                          16\n",
       "                             ไม่ได้ซื้อ                        10\n",
       "                             4-6 ชิ้น                           5\n",
       "เฉยๆ, ไม่!                   4-6 ชิ้น, มากกว่า 10 ชิ้น          1\n",
       "ไม่!                         1-3 ชิ้น                           1\n",
       "                             4-6 ชิ้น                           1\n",
       "                             ไม่ได้ซื้อ                         1\n",
       "Name: count, dtype: int64"
      ]
     },
     "execution_count": 5,
     "metadata": {},
     "output_type": "execute_result"
    }
   ],
   "source": [
    "#ความสัมพันธ์ระหว่างความสนใจในตลาดมือสองและอัตราการซื้อเสื้อผ้า\n",
    "second_hand_purchase = df.groupby('Second_Hand_Market_Interest')['Clothing_Buy_Rate'].value_counts()\n",
    "second_hand_purchase"
   ]
  },
  {
   "cell_type": "code",
   "execution_count": 6,
   "metadata": {},
   "outputs": [
    {
     "data": {
      "text/plain": [
       "Cloth_Retain_Knowledge  Clothing_Buy_Rate             \n",
       "น้อย                    1-3 ชิ้น                          13\n",
       "                        ไม่ได้ซื้อ                         5\n",
       "                        4-6 ชิ้น                           1\n",
       "                        7-9 ชิ้น                           1\n",
       "ปานกลาง                 1-3 ชิ้น                          42\n",
       "                        4-6 ชิ้น                          12\n",
       "                        ไม่ได้ซื้อ                        10\n",
       "                        1-3 ชิ้น, 4-6 ชิ้น                 1\n",
       "                        4-6 ชิ้น, มากกว่า 10 ชิ้น          1\n",
       "                        มากกว่า 10 ชิ้น                    1\n",
       "                        ไม่ได้ซื้อ, 1-3 ชิ้น, 4-6 ชิ้น     1\n",
       "มาก                     1-3 ชิ้น                           7\n",
       "                        ไม่ได้ซื้อ                         4\n",
       "                        มากกว่า 10 ชิ้น                    1\n",
       "Name: count, dtype: int64"
      ]
     },
     "execution_count": 6,
     "metadata": {},
     "output_type": "execute_result"
    }
   ],
   "source": [
    "# ความสัมพันธ์ระหว่างความรู้เกี่ยวกับการดูแลเสื้อผ้าและอัตราการซื้อเสื้อผ้า\n",
    "knowledge_purchase = df.groupby('Cloth_Retain_Knowledge')['Clothing_Buy_Rate'].value_counts()\n",
    "knowledge_purchase"
   ]
  },
  {
   "cell_type": "code",
   "execution_count": 7,
   "metadata": {},
   "outputs": [
    {
     "data": {
      "text/plain": [
       "Damaged_Case                                                                                                         Clothing_Buy_Rate             \n",
       "ซ่อม                                                                                                                 1-3 ชิ้น                          32\n",
       "                                                                                                                     ไม่ได้ซื้อ                         9\n",
       "                                                                                                                     4-6 ชิ้น                           6\n",
       "                                                                                                                     4-6 ชิ้น, มากกว่า 10 ชิ้น          1\n",
       "                                                                                                                     มากกว่า 10 ชิ้น                    1\n",
       "ซ่อม, ดองไว้ในตู้และหวังว่าจะมีโอกาสซ่อม                                                                             1-3 ชิ้น                           1\n",
       "ซ่อม, ทิ้ง                                                                                                           1-3 ชิ้น                           1\n",
       "                                                                                                                     4-6 ชิ้น                           1\n",
       "                                                                                                                     ไม่ได้ซื้อ                         1\n",
       "ซ่อม, ทิ้ง, ส่งต่อให้ผู้อื่น                                                                                         ไม่ได้ซื้อ, 1-3 ชิ้น, 4-6 ชิ้น     1\n",
       "ซ่อม, ส่งต่อให้ผู้อื่น                                                                                               1-3 ชิ้น                           7\n",
       "                                                                                                                     ไม่ได้ซื้อ                         4\n",
       "                                                                                                                     4-6 ชิ้น                           2\n",
       "                                                                                                                     1-3 ชิ้น, 4-6 ชิ้น                 1\n",
       "                                                                                                                     7-9 ชิ้น                           1\n",
       "ซ่อม, ส่งต่อให้ผู้อื่น, ขึ้นอยู่กับความชำรุดและประเภทของผ้า อาจจะเอามาทำผ้าขี้ริ้ว                                   ไม่ได้ซื้อ                         1\n",
       "ถ้าชอบมากเกบไว้ซ่อม แต่ถ้าไม่มากก็ขายต่อ                                                                             มากกว่า 10 ชิ้น                    1\n",
       "ถ้าเป็นตัวโปรดจะซ่อมครับ แต่ถ้าไม่ก็จะส่งต่อให้ผู้อื่น หรือถ้าไม่สามารถส่งต่อได้จริงๆเพราะชำรุดมากเกิน ก็จะทิ้งครับ  1-3 ชิ้น                           1\n",
       "ทิ้ง                                                                                                                 1-3 ชิ้น                           8\n",
       "                                                                                                                     4-6 ชิ้น                           3\n",
       "                                                                                                                     ไม่ได้ซื้อ                         2\n",
       "ทิ้ง,                                                                                                                1-3 ชิ้น                           1\n",
       "ทิ้ง, ส่งต่อให้ผู้อื่น                                                                                               ไม่ได้ซื้อ                         1\n",
       "ทิ้งบ้างซ่อมบ้างตามความเสียหายงับอ้วง                                                                                ไม่ได้ซื้อ                         1\n",
       "ส่งต่อให้ผู้อื่น                                                                                                     1-3 ชิ้น                           9\n",
       "                                                                                                                     4-6 ชิ้น                           1\n",
       "เก็บไว้แต่ไม่ได้นำมาใส่                                                                                              1-3 ชิ้น                           1\n",
       "ใส่นอน                                                                                                               1-3 ชิ้น                           1\n",
       "Name: count, dtype: int64"
      ]
     },
     "execution_count": 7,
     "metadata": {},
     "output_type": "execute_result"
    }
   ],
   "source": [
    "# ความสัมพันธ์ระหว่างความเสียหายของเสื้อผ้าและอัตราการซื้อเสื้อผ้า\n",
    "damage_purchase = df.groupby('Damaged_Case')['Clothing_Buy_Rate'].value_counts()\n",
    "damage_purchase"
   ]
  },
  {
   "cell_type": "code",
   "execution_count": 8,
   "metadata": {},
   "outputs": [
    {
     "data": {
      "text/plain": [
       "Second_Hand_Market_Interest  Same_Cloth_Freq                       \n",
       "ชอบบบบบบ                     มากกว่า 10 ครั้ง                          48\n",
       "                             7-9 ครั้ง                                  5\n",
       "                             1-3 ครั้ง                                  4\n",
       "                             4-6 ครั้ง                                  2\n",
       "                             ไม่ใส่ซ้ำ                                  2\n",
       "                             4-6 ครั้ง, 7-9 ครั้ง, มากกว่า 10 ครั้ง     1\n",
       "                             4-6 ครั้ง, มากกว่า 10 ครั้ง                1\n",
       "                             ไม่ใส่ซ้ำ, 1-3 ครั้ง                       1\n",
       "ชอบบบบบบ, เฉยๆ               1-3 ครั้ง, 4-6 ครั้ง, มากกว่า 10 ครั้ง     1\n",
       "เฉยๆ                         มากกว่า 10 ครั้ง                          24\n",
       "                             7-9 ครั้ง                                  3\n",
       "                             1-3 ครั้ง                                  2\n",
       "                             4-6 ครั้ง                                  2\n",
       "เฉยๆ, ไม่!                   1-3 ครั้ง, 4-6 ครั้ง                       1\n",
       "ไม่!                         มากกว่า 10 ครั้ง                           3\n",
       "Name: count, dtype: int64"
      ]
     },
     "execution_count": 8,
     "metadata": {},
     "output_type": "execute_result"
    }
   ],
   "source": [
    "# 8.  คนที่ชอบตลาดมือสอง vs ความถี่ในการใส่เสื้อผ้า\n",
    "second_hand_vs_wear_freq = df.groupby('Second_Hand_Market_Interest')['Same_Cloth_Freq'].value_counts()\n",
    "second_hand_vs_wear_freq"
   ]
  },
  {
   "cell_type": "code",
   "execution_count": 9,
   "metadata": {},
   "outputs": [
    {
     "data": {
      "text/plain": [
       "Online_Shopping_Rate  Cloth_Retain_Knowledge\n",
       "ซื้อบ้างแต่ไม่บ่อย    ปานกลาง                   28\n",
       "                      น้อย                       8\n",
       "                      มาก                        8\n",
       "เป็นประจำ             ปานกลาง                   25\n",
       "                      น้อย                       6\n",
       "                      มาก                        3\n",
       "ไม่ค่อยซื้อ           ปานกลาง                   13\n",
       "                      น้อย                       3\n",
       "                      มาก                        1\n",
       "ไม่ซื้อเลย            น้อย                       3\n",
       "                      ปานกลาง                    2\n",
       "Name: count, dtype: int64"
      ]
     },
     "execution_count": 9,
     "metadata": {},
     "output_type": "execute_result"
    }
   ],
   "source": [
    "# คนที่ชอบซื้อเสื้อผ้าออนไลน์ vs ความรู้เกี่ยวกับการดูแลเสื้อผ้า\n",
    "online_vs_knowledge = df.groupby('Online_Shopping_Rate')['Cloth_Retain_Knowledge'].value_counts()\n",
    "online_vs_knowledge"
   ]
  },
  {
   "cell_type": "code",
   "execution_count": 10,
   "metadata": {},
   "outputs": [
    {
     "data": {
      "text/plain": [
       "Clothing_Buy_Rate               Interest_Category    \n",
       "1-3 ชิ้น                        เสื้อผ้า                 50\n",
       "                                สิ่งของเครื่องใช้         6\n",
       "                                เครื่องประดับ             2\n",
       "                                หนังสือ                   1\n",
       "                                อะไหล่รถจักรยานยนต์       1\n",
       "                                เทปคาสเซ็ท                1\n",
       "1-3 ชิ้น, 4-6 ชิ้น              เสื้อผ้า                  1\n",
       "4-6 ชิ้น                        เสื้อผ้า                 11\n",
       "                                สิ่งของเครื่องใช้         2\n",
       "4-6 ชิ้น, มากกว่า 10 ชิ้น       เสื้อผ้า                  1\n",
       "7-9 ชิ้น                        เสื้อผ้า                  1\n",
       "มากกว่า 10 ชิ้น                 ทุกอย่าง                  1\n",
       "                                เสื้อผ้า                  1\n",
       "ไม่ได้ซื้อ                      เสื้อผ้า                 12\n",
       "                                สิ่งของเครื่องใช้         3\n",
       "                                ทุกอย่าง                  1\n",
       "                                อ่ะไรขาดก็ซื้ออันนั้น     1\n",
       "                                เครื่องประดับ             1\n",
       "                                ไม่เคยเดิน                1\n",
       "ไม่ได้ซื้อ, 1-3 ชิ้น, 4-6 ชิ้น  เสื้อผ้า                  1\n",
       "Name: count, dtype: int64"
      ]
     },
     "execution_count": 10,
     "metadata": {},
     "output_type": "execute_result"
    }
   ],
   "source": [
    "#  คนที่ชอบซื้อเสื้อผ้า vs ความสนใจในเครื่องประดับ\n",
    "purchase_vs_accessories = df.groupby('Clothing_Buy_Rate')['Interest_Category'].value_counts()\n",
    "purchase_vs_accessories"
   ]
  },
  {
   "cell_type": "code",
   "execution_count": 15,
   "metadata": {},
   "outputs": [
    {
     "data": {
      "text/plain": [
       "Clothing_Buy_Rate\n",
       "1-3 ชิ้น                          11\n",
       "ไม่ได้ซื้อ                         5\n",
       "4-6 ชิ้น                           4\n",
       "ไม่ได้ซื้อ, 1-3 ชิ้น, 4-6 ชิ้น     1\n",
       "Name: count, dtype: int64"
      ]
     },
     "execution_count": 15,
     "metadata": {},
     "output_type": "execute_result"
    }
   ],
   "source": [
    "#  คนที่ชอบทิ้งเสื้อผ้า vs ความถี่ในการซื้อเสื้อผ้า\n",
    "discard_vs_purchase = df.loc[df['Damaged_Case'].str.contains('ทิ้ง', na=False), 'Clothing_Buy_Rate'].value_counts() # บาง col มันเป็น \"ซ่อม, ทิ้ง\"\n",
    "discard_vs_purchase"
   ]
  },
  {
   "cell_type": "code",
   "execution_count": 12,
   "metadata": {},
   "outputs": [
    {
     "data": {
      "text/plain": [
       "Clothing_Buy_Rate               Interest_Category    \n",
       "1-3 ชิ้น                        เสื้อผ้า                 50\n",
       "                                สิ่งของเครื่องใช้         6\n",
       "                                เครื่องประดับ             2\n",
       "                                หนังสือ                   1\n",
       "                                อะไหล่รถจักรยานยนต์       1\n",
       "                                เทปคาสเซ็ท                1\n",
       "1-3 ชิ้น, 4-6 ชิ้น              เสื้อผ้า                  1\n",
       "4-6 ชิ้น                        เสื้อผ้า                 11\n",
       "                                สิ่งของเครื่องใช้         2\n",
       "4-6 ชิ้น, มากกว่า 10 ชิ้น       เสื้อผ้า                  1\n",
       "7-9 ชิ้น                        เสื้อผ้า                  1\n",
       "มากกว่า 10 ชิ้น                 ทุกอย่าง                  1\n",
       "                                เสื้อผ้า                  1\n",
       "ไม่ได้ซื้อ                      เสื้อผ้า                 12\n",
       "                                สิ่งของเครื่องใช้         3\n",
       "                                ทุกอย่าง                  1\n",
       "                                อ่ะไรขาดก็ซื้ออันนั้น     1\n",
       "                                เครื่องประดับ             1\n",
       "                                ไม่เคยเดิน                1\n",
       "ไม่ได้ซื้อ, 1-3 ชิ้น, 4-6 ชิ้น  เสื้อผ้า                  1\n",
       "Name: count, dtype: int64"
      ]
     },
     "execution_count": 12,
     "metadata": {},
     "output_type": "execute_result"
    }
   ],
   "source": [
    "#  คนที่ชอบซื้อเสื้อผ้า vs ความสนใจในสิ่งของเครื่องใช้\n",
    "purchase_vs_items = df.groupby('Clothing_Buy_Rate')['Interest_Category'].value_counts()\n",
    "purchase_vs_items"
   ]
  },
  {
   "cell_type": "code",
   "execution_count": 13,
   "metadata": {},
   "outputs": [
    {
     "data": {
      "text/plain": [
       "Clothing_Buy_Rate               Same_Cloth_Freq                       \n",
       "1-3 ชิ้น                        มากกว่า 10 ครั้ง                          49\n",
       "                                1-3 ครั้ง                                  4\n",
       "                                4-6 ครั้ง                                  3\n",
       "                                7-9 ครั้ง                                  2\n",
       "                                ไม่ใส่ซ้ำ                                  2\n",
       "                                4-6 ครั้ง, 7-9 ครั้ง, มากกว่า 10 ครั้ง     1\n",
       "                                ไม่ใส่ซ้ำ, 1-3 ครั้ง                       1\n",
       "1-3 ชิ้น, 4-6 ชิ้น              มากกว่า 10 ครั้ง                           1\n",
       "4-6 ชิ้น                        มากกว่า 10 ครั้ง                           9\n",
       "                                7-9 ครั้ง                                  3\n",
       "                                4-6 ครั้ง                                  1\n",
       "4-6 ชิ้น, มากกว่า 10 ชิ้น       1-3 ครั้ง, 4-6 ครั้ง                       1\n",
       "7-9 ชิ้น                        มากกว่า 10 ครั้ง                           1\n",
       "มากกว่า 10 ชิ้น                 1-3 ครั้ง                                  1\n",
       "                                4-6 ครั้ง, มากกว่า 10 ครั้ง                1\n",
       "ไม่ได้ซื้อ                      มากกว่า 10 ครั้ง                          15\n",
       "                                7-9 ครั้ง                                  3\n",
       "                                1-3 ครั้ง                                  1\n",
       "ไม่ได้ซื้อ, 1-3 ชิ้น, 4-6 ชิ้น  1-3 ครั้ง, 4-6 ครั้ง, มากกว่า 10 ครั้ง     1\n",
       "Name: count, dtype: int64"
      ]
     },
     "execution_count": 13,
     "metadata": {},
     "output_type": "execute_result"
    }
   ],
   "source": [
    "#  คนที่ชอบซื้อเสื้อผ้า vs ความถี่ในการใส่เสื้อผ้าเดิม\n",
    "purchase_vs_wear_freq = df.groupby('Clothing_Buy_Rate')['Same_Cloth_Freq'].value_counts()\n",
    "purchase_vs_wear_freq"
   ]
  },
  {
   "cell_type": "code",
   "execution_count": 14,
   "metadata": {},
   "outputs": [
    {
     "data": {
      "text/plain": [
       "Clothing_Buy_Rate               Second_Hand_Market_Interest\n",
       "1-3 ชิ้น                        ชอบบบบบบ                       45\n",
       "                                เฉยๆ                           16\n",
       "                                ไม่!                            1\n",
       "1-3 ชิ้น, 4-6 ชิ้น              ชอบบบบบบ                        1\n",
       "4-6 ชิ้น                        ชอบบบบบบ                        7\n",
       "                                เฉยๆ                            5\n",
       "                                ไม่!                            1\n",
       "4-6 ชิ้น, มากกว่า 10 ชิ้น       เฉยๆ, ไม่!                      1\n",
       "7-9 ชิ้น                        ชอบบบบบบ                        1\n",
       "มากกว่า 10 ชิ้น                 ชอบบบบบบ                        2\n",
       "ไม่ได้ซื้อ                      เฉยๆ                           10\n",
       "                                ชอบบบบบบ                        8\n",
       "                                ไม่!                            1\n",
       "ไม่ได้ซื้อ, 1-3 ชิ้น, 4-6 ชิ้น  ชอบบบบบบ, เฉยๆ                  1\n",
       "Name: count, dtype: int64"
      ]
     },
     "execution_count": 14,
     "metadata": {},
     "output_type": "execute_result"
    }
   ],
   "source": [
    "#  คนที่ชอบซื้อเสื้อผ้า vs ความสนใจในตลาดมือสอง\n",
    "purchase_vs_second_hand = df.groupby('Clothing_Buy_Rate')['Second_Hand_Market_Interest'].value_counts()\n",
    "purchase_vs_second_hand"
   ]
  }
 ],
 "metadata": {
  "kernelspec": {
   "display_name": "base",
   "language": "python",
   "name": "python3"
  },
  "language_info": {
   "codemirror_mode": {
    "name": "ipython",
    "version": 3
   },
   "file_extension": ".py",
   "mimetype": "text/x-python",
   "name": "python",
   "nbconvert_exporter": "python",
   "pygments_lexer": "ipython3",
   "version": "3.12.4"
  }
 },
 "nbformat": 4,
 "nbformat_minor": 2
}
