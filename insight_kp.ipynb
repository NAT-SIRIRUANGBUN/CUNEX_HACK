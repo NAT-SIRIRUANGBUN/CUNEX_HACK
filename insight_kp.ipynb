{
 "cells": [
  {
   "cell_type": "code",
   "execution_count": null,
   "metadata": {},
   "outputs": [],
   "source": [
    "import pandas as pd\n",
    "\n",
    "# อ่านไฟล์ CSV\n",
    "df = pd.read_csv('./research_data.csv')\n"
   ]
  },
  {
   "cell_type": "code",
   "execution_count": null,
   "metadata": {},
   "outputs": [],
   "source": [
    "#ความสัมพันธ์ระหว่างคณะและอัตราการซื้อเสื้อผ้า\n",
    "faculty_purchase = df.groupby('Faculty')['Clothing_Buy_Rate'].value_counts()\n",
    "faculty_purchase"
   ]
  },
  {
   "cell_type": "code",
   "execution_count": null,
   "metadata": {},
   "outputs": [],
   "source": [
    "#ความสัมพันธ์ระหว่างการซื้อของออนไลน์และอัตราการซื้อเสื้อผ้า\n",
    "online_purchase = df.groupby('Online_Shopping_Rate')['Clothing_Buy_Rate'].value_counts()\n",
    "online_purchase"
   ]
  },
  {
   "cell_type": "code",
   "execution_count": null,
   "metadata": {},
   "outputs": [],
   "source": [
    "#ความสัมพันธ์ระหว่างความถี่ในการใส่เสื้อผ้าและอัตราการซื้อเสื้อผ้า\n",
    "wear_freq_purchase = df.groupby('Same_Cloth_Freq')['Clothing_Buy_Rate'].value_counts()\n",
    "wear_freq_purchase"
   ]
  },
  {
   "cell_type": "code",
   "execution_count": null,
   "metadata": {},
   "outputs": [],
   "source": [
    "#ความสัมพันธ์ระหว่างความสนใจในตลาดมือสองและอัตราการซื้อเสื้อผ้า\n",
    "second_hand_purchase = df.groupby('Second_Hand_Market_Interest')['Clothing_Buy_Rate'].value_counts()\n",
    "second_hand_purchase"
   ]
  },
  {
   "cell_type": "code",
   "execution_count": null,
   "metadata": {},
   "outputs": [],
   "source": [
    "# ความสัมพันธ์ระหว่างความรู้เกี่ยวกับการดูแลเสื้อผ้าและอัตราการซื้อเสื้อผ้า\n",
    "knowledge_purchase = df.groupby('Cloth_Retain_Knowledge')['Clothing_Buy_Rate'].value_counts()\n",
    "knowledge_purchase"
   ]
  },
  {
   "cell_type": "code",
   "execution_count": null,
   "metadata": {},
   "outputs": [],
   "source": [
    "# ความสัมพันธ์ระหว่างความเสียหายของเสื้อผ้าและอัตราการซื้อเสื้อผ้า\n",
    "damage_purchase = df.groupby('Damaged_Case')['Clothing_Buy_Rate'].value_counts()\n",
    "damage_purchase"
   ]
  },
  {
   "cell_type": "code",
   "execution_count": null,
   "metadata": {},
   "outputs": [],
   "source": [
    "# 8.  คนที่ชอบตลาดมือสอง vs ความถี่ในการใส่เสื้อผ้า\n",
    "second_hand_vs_wear_freq = df.groupby('Second_Hand_Market_Interest')['Same_Cloth_Freq'].value_counts()\n",
    "second_hand_vs_wear_freq"
   ]
  },
  {
   "cell_type": "code",
   "execution_count": null,
   "metadata": {},
   "outputs": [],
   "source": [
    "# คนที่ชอบซื้อเสื้อผ้าออนไลน์ vs ความรู้เกี่ยวกับการดูแลเสื้อผ้า\n",
    "online_vs_knowledge = df.groupby('Online_Shopping_Rate')['Cloth_Retain_Knowledge'].value_counts()\n",
    "online_vs_knowledge"
   ]
  },
  {
   "cell_type": "code",
   "execution_count": null,
   "metadata": {},
   "outputs": [],
   "source": [
    "#  คนที่ชอบซื้อเสื้อผ้า vs ความสนใจในเครื่องประดับ\n",
    "purchase_vs_accessories = df.groupby('Clothing_Buy_Rate')['Interest_Category'].value_counts()\n",
    "purchase_vs_accessories"
   ]
  },
  {
   "cell_type": "code",
   "execution_count": null,
   "metadata": {},
   "outputs": [],
   "source": [
    "#  คนที่ชอบทิ้งเสื้อผ้า vs ความถี่ในการซื้อเสื้อผ้า\n",
    "discard_vs_purchase = df.loc[df['Damaged_Case'].str.contains('ทิ้ง', na=False), 'Clothing_Buy_Rate'].value_counts() # บาง col มันเป็น \"ซ่อม, ทิ้ง\"\n",
    "discard_vs_purchase"
   ]
  },
  {
   "cell_type": "code",
   "execution_count": null,
   "metadata": {},
   "outputs": [],
   "source": [
    "#  คนที่ชอบซื้อเสื้อผ้า vs ความสนใจในสิ่งของเครื่องใช้\n",
    "purchase_vs_items = df.groupby('Clothing_Buy_Rate')['Interest_Category'].value_counts()\n",
    "purchase_vs_items"
   ]
  },
  {
   "cell_type": "code",
   "execution_count": null,
   "metadata": {},
   "outputs": [],
   "source": [
    "#  คนที่ชอบซื้อเสื้อผ้า vs ความถี่ในการใส่เสื้อผ้าเดิม\n",
    "purchase_vs_wear_freq = df.groupby('Clothing_Buy_Rate')['Same_Cloth_Freq'].value_counts()\n",
    "purchase_vs_wear_freq"
   ]
  },
  {
   "cell_type": "code",
   "execution_count": null,
   "metadata": {},
   "outputs": [],
   "source": [
    "#  คนที่ชอบซื้อเสื้อผ้า vs ความสนใจในตลาดมือสอง\n",
    "purchase_vs_second_hand = df.groupby('Clothing_Buy_Rate')['Second_Hand_Market_Interest'].value_counts()\n",
    "purchase_vs_second_hand"
   ]
  }
 ],
 "metadata": {
  "kernelspec": {
   "display_name": "base",
   "language": "python",
   "name": "python3"
  },
  "language_info": {
   "codemirror_mode": {
    "name": "ipython",
    "version": 3
   },
   "file_extension": ".py",
   "mimetype": "text/x-python",
   "name": "python",
   "nbconvert_exporter": "python",
   "pygments_lexer": "ipython3",
   "version": "3.12.4"
  }
 },
 "nbformat": 4,
 "nbformat_minor": 2
}
