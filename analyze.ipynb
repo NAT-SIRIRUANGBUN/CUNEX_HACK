{
 "cells": [
  {
   "cell_type": "markdown",
   "metadata": {},
   "source": [
    "# Data Cleansing"
   ]
  },
  {
   "cell_type": "code",
   "execution_count": null,
   "metadata": {},
   "outputs": [],
   "source": [
    "import numpy as np\n",
    "import pandas as pd\n",
    "import math"
   ]
  },
  {
   "cell_type": "code",
   "execution_count": null,
   "metadata": {},
   "outputs": [],
   "source": [
    "df = pd.read_csv('./research_data.csv')"
   ]
  },
  {
   "cell_type": "code",
   "execution_count": null,
   "metadata": {},
   "outputs": [],
   "source": [
    "df = df.drop(['Time_Stamp', 'Interest_Category'], axis=1)"
   ]
  },
  {
   "cell_type": "code",
   "execution_count": null,
   "metadata": {},
   "outputs": [],
   "source": [
    "df['Clothing_Buy_Rate'] = df['Clothing_Buy_Rate'].replace({'ไม่ได้ซื้อ' : 0, '1-3 ชิ้น' : 2.5, '4-6 ชิ้น' : 5, '7-9 ชิ้น' : 7.5, 'มากกว่า 10 ชิ้น' : 10})\n",
    "df['Clothing_Buy_Rate'] = df['Clothing_Buy_Rate'].apply(lambda x : None if type(x) == type('') else x).astype(float)\n",
    "df['Clothing_Buy_Rate'] = df['Clothing_Buy_Rate'].fillna(math.floor(df['Clothing_Buy_Rate'].mean()))\n",
    "df = df.rename({'Clothing_Buy_Rate' : 'Cloth_Buy_Rate'}, axis=1)"
   ]
  },
  {
   "cell_type": "code",
   "execution_count": null,
   "metadata": {},
   "outputs": [],
   "source": [
    "df['Is_In_Fashion'] = df['Is_In_Fashion'].replace({'ใช่คับ✅' : 1, 'ไม่❌' : 0})"
   ]
  },
  {
   "cell_type": "code",
   "execution_count": null,
   "metadata": {},
   "outputs": [],
   "source": [
    "df['Same_Cloth_Freq'] = df['Same_Cloth_Freq'].replace({'ไม่ใส่ซ้ำ' : 0, '1-3 ครั้ง' : 2.5, '4-6 ครั้ง' : 5, '7-9 ครั้ง' : 7.5, 'มากกว่า 10 ครั้ง' : 10})\n",
    "df['Same_Cloth_Freq'] = df['Same_Cloth_Freq'].apply(lambda x : None if type(x) == type('') else x).astype(float)\n",
    "df['Same_Cloth_Freq'] = df['Same_Cloth_Freq'].fillna(math.floor(df['Same_Cloth_Freq'].mean()))"
   ]
  },
  {
   "cell_type": "code",
   "execution_count": null,
   "metadata": {},
   "outputs": [],
   "source": [
    "df['Cloth_Retain_Knowledge'] = df['Cloth_Retain_Knowledge'].replace({'น้อย' : 0.0, 'ปานกลาง' : 5.0, 'มาก' : 10})"
   ]
  },
  {
   "cell_type": "code",
   "execution_count": null,
   "metadata": {},
   "outputs": [],
   "source": [
    "df['Is_Repair'] = df['Damaged_Case'].apply(lambda x : 1.0 if 'ซ่อม' in x else 0.0)\n",
    "df['Is_Throw'] = df['Damaged_Case'].apply(lambda x : 1.0 if 'ทิ้ง' in x else 0.0)\n",
    "df['Is_Donate'] = df['Damaged_Case'].apply(lambda x : 1.0 if 'ส่ง' in x else 0.0)"
   ]
  },
  {
   "cell_type": "code",
   "execution_count": null,
   "metadata": {},
   "outputs": [],
   "source": [
    "df = df.drop('Damaged_Case', axis=1)"
   ]
  },
  {
   "cell_type": "code",
   "execution_count": null,
   "metadata": {},
   "outputs": [],
   "source": [
    "df['Online_Shopping_Rate'] = df['Online_Shopping_Rate'].replace({'ไม่ซื้อเลย' : 0.0, 'ไม่ค่อยซื้อ' : 10/3, 'ซื้อบ้างแต่ไม่บ่อย' : 20/3, 'เป็นประจำ' : 10})"
   ]
  },
  {
   "cell_type": "code",
   "execution_count": null,
   "metadata": {},
   "outputs": [],
   "source": [
    "df['Shopping_Method'] = df['Shopping_Method'].replace({'ออนไลน์' : 'Online', 'ไปซื้อที่ร้าน' : 'Onsite', 'ออนไลน์, ไปซื้อที่ร้าน' : 'Both'})"
   ]
  },
  {
   "cell_type": "code",
   "execution_count": null,
   "metadata": {},
   "outputs": [],
   "source": [
    "df['Things_Retain_Knowledge'] = df['Things_Retain_Knowledge'].replace({'ไม่รู้' : 0.0, 'รู้' : 1.0})\n",
    "df['Things_Retain_Knowledge'] = df['Things_Retain_Knowledge'].apply(lambda x : None if type(x) == type('') else x).astype(float)\n",
    "df['Things_Retain_Knowledge'] = df['Things_Retain_Knowledge'].fillna(math.floor(df['Same_Cloth_Freq'].mean()))"
   ]
  },
  {
   "cell_type": "code",
   "execution_count": null,
   "metadata": {},
   "outputs": [],
   "source": [
    "df['Second_Hand_Market_Interest'] = df['Second_Hand_Market_Interest'].replace({'ไม่!' : 0.0, 'เฉยๆ' : 5.0, 'ชอบบบบบบ' : 10})\n",
    "df['Second_Hand_Market_Interest'] = df['Second_Hand_Market_Interest'].apply(lambda x : None if type(x) == type('') else x).astype(float)\n",
    "df['Second_Hand_Market_Interest'] = df['Second_Hand_Market_Interest'].fillna(math.floor(df['Same_Cloth_Freq'].mean()))"
   ]
  },
  {
   "cell_type": "markdown",
   "metadata": {},
   "source": [
    "# Data Visualization"
   ]
  },
  {
   "cell_type": "code",
   "execution_count": null,
   "metadata": {},
   "outputs": [],
   "source": [
    "import plotly.express as px"
   ]
  },
  {
   "cell_type": "code",
   "execution_count": null,
   "metadata": {},
   "outputs": [],
   "source": [
    "correlation_all = df.drop(columns=['Gender', 'Faculty', 'Shopping_Method']).corr()\n",
    "correlation_female = df[df['Gender'] == 'หญิง'].drop(columns=['Gender', 'Faculty', 'Shopping_Method']).corr()"
   ]
  },
  {
   "cell_type": "code",
   "execution_count": null,
   "metadata": {},
   "outputs": [],
   "source": [
    "# Filter High Correlation\n",
    "for i in correlation_all.columns:\n",
    "    correlation_all[i] = correlation_all[i].apply(lambda x : 0 if abs(x) < 0.2 else x)\n",
    "\n",
    "for i in correlation_female.columns:\n",
    "    correlation_female[i] = correlation_female[i].apply(lambda x : 0 if abs(x) < 0.2 else x)"
   ]
  },
  {
   "cell_type": "code",
   "execution_count": null,
   "metadata": {},
   "outputs": [],
   "source": [
    "fig = px.imshow(correlation_all)\n",
    "fig.update_layout(height=1000, width=1000)\n",
    "fig.show()"
   ]
  },
  {
   "cell_type": "code",
   "execution_count": null,
   "metadata": {},
   "outputs": [],
   "source": [
    "fig = px.imshow(correlation_female)\n",
    "fig.update_layout(height=1000, width=1000)\n",
    "fig.show()"
   ]
  }
 ],
 "metadata": {
  "kernelspec": {
   "display_name": "base",
   "language": "python",
   "name": "python3"
  },
  "language_info": {
   "codemirror_mode": {
    "name": "ipython",
    "version": 3
   },
   "file_extension": ".py",
   "mimetype": "text/x-python",
   "name": "python",
   "nbconvert_exporter": "python",
   "pygments_lexer": "ipython3",
   "version": "3.12.4"
  },
  "orig_nbformat": 4
 },
 "nbformat": 4,
 "nbformat_minor": 2
}
